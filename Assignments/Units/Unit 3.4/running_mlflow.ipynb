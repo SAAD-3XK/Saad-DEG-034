{
 "cells": [
  {
   "cell_type": "code",
   "execution_count": 44,
   "id": "0fc4d0e0-dde7-4d76-8274-60aa1f3ea065",
   "metadata": {
    "tags": []
   },
   "outputs": [
    {
     "name": "stdout",
     "output_type": "stream",
     "text": [
      "/home/saadsameerkhan/anaconda3/bin/python\n"
     ]
    }
   ],
   "source": [
    "!python -c \"import sys; print(sys.executable)\""
   ]
  },
  {
   "cell_type": "markdown",
   "id": "3caf2c00-02f0-4869-b0f1-7e406d08e96c",
   "metadata": {},
   "source": [
    "# Setting up mlflow server at port 1593"
   ]
  },
  {
   "cell_type": "code",
   "execution_count": 45,
   "id": "345a6aae-53f7-49de-9516-9bb5d37679e6",
   "metadata": {
    "tags": []
   },
   "outputs": [],
   "source": [
    "%%bash --bg\n",
    "\n",
    "mlflow server --host 0.0.0.0 \\\n",
    "    --port 1593 \\\n",
    "    --backend-store-uri sqlite:///mlflow.db \\\n",
    "    --default-artifact-root ./mlruns"
   ]
  },
  {
   "cell_type": "code",
   "execution_count": 46,
   "id": "25d4b7fc-5fd6-4025-a56b-2781292b3a6c",
   "metadata": {
    "tags": []
   },
   "outputs": [
    {
     "name": "stdout",
     "output_type": "stream",
     "text": [
      "name: basic_mlflow\n",
      "\n",
      "conda_env: conda.yaml\n",
      "\n",
      "entry_points:\n",
      "  main:\n",
      "    # parameters is a key-value collection.\n",
      "    parameters:\n",
      "      solver_name:\n",
      "        type: str\n",
      "        default: \"lbfgs\"\n",
      "      logreg_type:\n",
      "        type: str\n",
      "        default: \"multinomial\"\n",
      "    command: \"python new_train.py {logreg_type} {solver_name}\""
     ]
    }
   ],
   "source": [
    "%cat MLproject"
   ]
  },
  {
   "cell_type": "markdown",
   "id": "1c13daa8-3073-45d9-ac16-6ab388202d81",
   "metadata": {},
   "source": [
    "# Running MLproject file "
   ]
  },
  {
   "cell_type": "code",
   "execution_count": 47,
   "id": "29ecdf0b-15e2-4a1c-a390-52c74042f271",
   "metadata": {
    "tags": []
   },
   "outputs": [
    {
     "name": "stderr",
     "output_type": "stream",
     "text": [
      "2023/05/06 20:05:41 INFO mlflow.utils.conda: Conda environment mlflow-dd0fbdd40ba98798131458f29496394bd1a3fb33 already exists.\n",
      "2023/05/06 20:05:41 INFO mlflow.projects.utils: === Created directory /tmp/tmpdnadj8kn for downloading remote URIs passed to arguments of type 'path' ===\n",
      "2023/05/06 20:05:41 INFO mlflow.projects.backend.local: === Running command 'source /home/saadsameerkhan/anaconda3/bin/../etc/profile.d/conda.sh && conda activate mlflow-dd0fbdd40ba98798131458f29496394bd1a3fb33 1>&2 && python new_train.py multinomial lbfgs' in run with ID 'a0d43e51bfbf4d3e87821c1c2fcbce7e' === \n",
      "/home/saadsameerkhan/anaconda3/envs/mlflow-dd0fbdd40ba98798131458f29496394bd1a3fb33/lib/python3.11/site-packages/_distutils_hack/__init__.py:33: UserWarning: Setuptools is replacing distutils.\n",
      "  warnings.warn(\"Setuptools is replacing distutils.\")\n",
      "Registered model 'sklearn_logreg' already exists. Creating a new version of this model...\n",
      "2023/05/06 20:05:44 INFO mlflow.tracking._model_registry.client: Waiting up to 300 seconds for model version to finish creation. Model name: sklearn_logreg, version 2\n",
      "Created version '2' of model 'sklearn_logreg'.\n",
      "2023/05/06 20:05:44 INFO mlflow.projects: === Run (ID 'a0d43e51bfbf4d3e87821c1c2fcbce7e') succeeded ===\n"
     ]
    }
   ],
   "source": [
    "%%bash\n",
    "source mlflow_env_vars.sh\n",
    "mlflow run ."
   ]
  },
  {
   "cell_type": "markdown",
   "id": "17f435ba-18eb-4f18-bbaa-368b122a399e",
   "metadata": {},
   "source": [
    "# Checking MLmodel file of last model run\n",
    "### It gives info about the model, the input output data as well as some metadata"
   ]
  },
  {
   "cell_type": "code",
   "execution_count": 48,
   "id": "e875c671-711e-4430-95c8-0a72784d186b",
   "metadata": {
    "tags": []
   },
   "outputs": [
    {
     "name": "stdout",
     "output_type": "stream",
     "text": [
      "artifact_path: logreg\n",
      "flavors:\n",
      "  python_function:\n",
      "    env:\n",
      "      conda: conda.yaml\n",
      "      virtualenv: python_env.yaml\n",
      "    loader_module: mlflow.sklearn\n",
      "    model_path: model.pkl\n",
      "    predict_fn: predict\n",
      "    python_version: 3.11.3\n",
      "  sklearn:\n",
      "    code: null\n",
      "    pickled_model: model.pkl\n",
      "    serialization_format: cloudpickle\n",
      "    sklearn_version: 1.2.2\n",
      "mlflow_version: 2.3.1\n",
      "model_uuid: 5d2f9556dcea4f46aa6caf6365acbfa3\n",
      "run_id: a0d43e51bfbf4d3e87821c1c2fcbce7e\n",
      "utc_time_created: '2023-05-06 15:05:43.389914'\n"
     ]
    }
   ],
   "source": [
    "%%bash\n",
    "last_model_path=$(ls -tr mlruns/0/ | tail -1)\n",
    "cat mlruns/0/$last_model_path/artifacts/logreg/MLmodel"
   ]
  },
  {
   "cell_type": "markdown",
   "id": "b109b95b-df9d-4d1c-abb5-68cf2b4c3ea8",
   "metadata": {},
   "source": [
    "# Serving the model that is in production\n",
    "## so that we can give it our data\n",
    "### and it give us its predictions"
   ]
  },
  {
   "cell_type": "code",
   "execution_count": 49,
   "id": "c41f5eab-9472-4314-9827-2397fa5e79e7",
   "metadata": {
    "tags": []
   },
   "outputs": [],
   "source": [
    "%%bash --bg\n",
    "source mlflow_env_vars.sh\n",
    "mlflow --version\n",
    "mlflow models serve -m models:/sklearn_logreg/Production -p 1594 --env-manager=conda"
   ]
  },
  {
   "cell_type": "markdown",
   "id": "5ff66621-dbe6-40ca-8753-ccfa7d9bcb01",
   "metadata": {},
   "source": [
    "# Selecting the last 2 rows of the dataset\n",
    "### These rows were unseen by the model during training"
   ]
  },
  {
   "cell_type": "code",
   "execution_count": 72,
   "id": "226e23ea-e133-4e18-b92d-0dbfa572b466",
   "metadata": {
    "tags": []
   },
   "outputs": [
    {
     "data": {
      "text/html": [
       "<div>\n",
       "<style scoped>\n",
       "    .dataframe tbody tr th:only-of-type {\n",
       "        vertical-align: middle;\n",
       "    }\n",
       "\n",
       "    .dataframe tbody tr th {\n",
       "        vertical-align: top;\n",
       "    }\n",
       "\n",
       "    .dataframe thead th {\n",
       "        text-align: right;\n",
       "    }\n",
       "</style>\n",
       "<table border=\"1\" class=\"dataframe\">\n",
       "  <thead>\n",
       "    <tr style=\"text-align: right;\">\n",
       "      <th></th>\n",
       "      <th>alcohol</th>\n",
       "      <th>malic_acid</th>\n",
       "      <th>ash</th>\n",
       "      <th>alcalinity_of_ash</th>\n",
       "      <th>magnesium</th>\n",
       "      <th>total_phenols</th>\n",
       "      <th>flavanoids</th>\n",
       "      <th>nonflavanoid_phenols</th>\n",
       "      <th>proanthocyanins</th>\n",
       "      <th>color_intensity</th>\n",
       "      <th>hue</th>\n",
       "      <th>od280/od315_of_diluted_wines</th>\n",
       "      <th>proline</th>\n",
       "      <th>target</th>\n",
       "    </tr>\n",
       "  </thead>\n",
       "  <tbody>\n",
       "    <tr>\n",
       "      <th>176</th>\n",
       "      <td>13.17</td>\n",
       "      <td>2.59</td>\n",
       "      <td>2.37</td>\n",
       "      <td>20.0</td>\n",
       "      <td>120.0</td>\n",
       "      <td>1.65</td>\n",
       "      <td>0.68</td>\n",
       "      <td>0.53</td>\n",
       "      <td>1.46</td>\n",
       "      <td>9.3</td>\n",
       "      <td>0.60</td>\n",
       "      <td>1.62</td>\n",
       "      <td>840.0</td>\n",
       "      <td>2</td>\n",
       "    </tr>\n",
       "    <tr>\n",
       "      <th>177</th>\n",
       "      <td>14.13</td>\n",
       "      <td>4.10</td>\n",
       "      <td>2.74</td>\n",
       "      <td>24.5</td>\n",
       "      <td>96.0</td>\n",
       "      <td>2.05</td>\n",
       "      <td>0.76</td>\n",
       "      <td>0.56</td>\n",
       "      <td>1.35</td>\n",
       "      <td>9.2</td>\n",
       "      <td>0.61</td>\n",
       "      <td>1.60</td>\n",
       "      <td>560.0</td>\n",
       "      <td>2</td>\n",
       "    </tr>\n",
       "  </tbody>\n",
       "</table>\n",
       "</div>"
      ],
      "text/plain": [
       "     alcohol  malic_acid   ash  alcalinity_of_ash  magnesium  total_phenols   \n",
       "176    13.17        2.59  2.37               20.0      120.0           1.65  \\\n",
       "177    14.13        4.10  2.74               24.5       96.0           2.05   \n",
       "\n",
       "     flavanoids  nonflavanoid_phenols  proanthocyanins  color_intensity   hue   \n",
       "176        0.68                  0.53             1.46              9.3  0.60  \\\n",
       "177        0.76                  0.56             1.35              9.2  0.61   \n",
       "\n",
       "     od280/od315_of_diluted_wines  proline  target  \n",
       "176                          1.62    840.0       2  \n",
       "177                          1.60    560.0       2  "
      ]
     },
     "execution_count": 72,
     "metadata": {},
     "output_type": "execute_result"
    }
   ],
   "source": [
    "from sklearn import datasets\n",
    "wine = datasets.load_wine()\n",
    "X = pd.DataFrame(wine.data, columns = wine.feature_names)   # dataframe with all feature columns\n",
    "y = pd.DataFrame(wine.target, columns = ['encoded_class'])   # dataframe with target column\n",
    "X['target'] = y\n",
    "test_df = X.iloc[-2:]\n",
    "test_df"
   ]
  },
  {
   "cell_type": "code",
   "execution_count": 67,
   "id": "39811b17-54dd-486e-8e7b-d2f9c04e7b9d",
   "metadata": {
    "tags": []
   },
   "outputs": [
    {
     "data": {
      "text/plain": [
       "[13.17, 2.59, 2.37, 20.0, 120.0, 1.65, 0.68, 0.53, 1.46, 9.3, 0.6, 1.62, 840.0]"
      ]
     },
     "execution_count": 67,
     "metadata": {},
     "output_type": "execute_result"
    }
   ],
   "source": [
    "sample1 = test_df.iloc[0].tolist()\n",
    "sample1 = sample1[:-1]\n",
    "sample1"
   ]
  },
  {
   "cell_type": "code",
   "execution_count": 68,
   "id": "8532aaa5-5e53-4b0f-91c7-15ae71f26e31",
   "metadata": {
    "tags": []
   },
   "outputs": [
    {
     "data": {
      "text/plain": [
       "[14.13, 4.1, 2.74, 24.5, 96.0, 2.05, 0.76, 0.56, 1.35, 9.2, 0.61, 1.6, 560.0]"
      ]
     },
     "execution_count": 68,
     "metadata": {},
     "output_type": "execute_result"
    }
   ],
   "source": [
    "sample2 = test_df.iloc[1].tolist()\n",
    "sample2 = sample2[:-1]\n",
    "sample2"
   ]
  },
  {
   "cell_type": "markdown",
   "id": "10acb98d-8850-442c-a6c0-43131c42ebb8",
   "metadata": {},
   "source": [
    "# Giving these 2 samples to the model"
   ]
  },
  {
   "cell_type": "code",
   "execution_count": 69,
   "id": "9e81a559-d3f8-4da0-be7d-cef539dad41c",
   "metadata": {
    "tags": []
   },
   "outputs": [
    {
     "name": "stdout",
     "output_type": "stream",
     "text": [
      "[[13.27,4.28,2.26,20.0,120.0,1.59,0.69,0.43,1.35,10.2,0.59,1.56,835.0],[13.17,2.59,2.37,20.0,120.0,1.65,0.68,0.53,1.46,9.3,0.6,1.62,840.0]]\n"
     ]
    },
    {
     "name": "stderr",
     "output_type": "stream",
     "text": [
      "  % Total    % Received % Xferd  Average Speed   Time    Time     Time  Current\n",
      "                                 Dload  Upload   Total   Spent    Left  Speed\n",
      "100   174  100    23  100   151  19557   125k --:--:-- --:--:-- --:--:--  169k\n"
     ]
    },
    {
     "name": "stdout",
     "output_type": "stream",
     "text": [
      "{\"predictions\": [2, 2]}"
     ]
    }
   ],
   "source": [
    "%%bash\n",
    "data='[[13.27,4.28,2.26,20.0,120.0,1.59,0.69,0.43,1.35,10.2,0.59,1.56,835.0],[13.17,2.59,2.37,20.0,120.0,1.65,0.68,0.53,1.46,9.3,0.6,1.62,840.0]]'\n",
    "echo $data\n",
    "\n",
    "curl -d \"{\\\"inputs\\\": $data}\" -H 'Content-Type: application/json' 127.0.0.1:1594/invocations"
   ]
  },
  {
   "cell_type": "code",
   "execution_count": 70,
   "id": "6ed07a62-e2f6-4ce4-aeab-24fc06e47928",
   "metadata": {
    "tags": []
   },
   "outputs": [
    {
     "name": "stdout",
     "output_type": "stream",
     "text": [
      "[[13.27,4.28,2.26,20.0,120.0,1.59,0.69,0.43,1.35,10.2,0.59,1.56,835.0],[13.17,2.59,2.37,20.0,120.0,1.65,0.68,0.53,1.46,9.3,0.6,1.62,840.0]]\n"
     ]
    },
    {
     "name": "stderr",
     "output_type": "stream",
     "text": [
      "  % Total    % Received % Xferd  Average Speed   Time    Time     Time  Current\n",
      "                                 Dload  Upload   Total   Spent    Left  Speed\n",
      "100   177  100    23  100   154   9770  65420 --:--:-- --:--:-- --:--:-- 88500\n"
     ]
    },
    {
     "name": "stdout",
     "output_type": "stream",
     "text": [
      "{\"predictions\": [2, 2]}"
     ]
    }
   ],
   "source": [
    "%%bash\n",
    "data='[[13.27,4.28,2.26,20.0,120.0,1.59,0.69,0.43,1.35,10.2,0.59,1.56,835.0],[13.17,2.59,2.37,20.0,120.0,1.65,0.68,0.53,1.46,9.3,0.6,1.62,840.0]]'\n",
    "echo $data\n",
    "\n",
    "curl -d \"{\\\"instances\\\": $data}\" -H 'Content-Type: application/json' 127.0.0.1:1594/invocations"
   ]
  },
  {
   "cell_type": "markdown",
   "id": "52b0d99c-c9d6-4ff0-9b97-032163bf20ef",
   "metadata": {},
   "source": [
    "# The model has made correct predictions!"
   ]
  }
 ],
 "metadata": {
  "kernelspec": {
   "display_name": "Python 3 (ipykernel)",
   "language": "python",
   "name": "python3"
  },
  "language_info": {
   "codemirror_mode": {
    "name": "ipython",
    "version": 3
   },
   "file_extension": ".py",
   "mimetype": "text/x-python",
   "name": "python",
   "nbconvert_exporter": "python",
   "pygments_lexer": "ipython3",
   "version": "3.10.9"
  }
 },
 "nbformat": 4,
 "nbformat_minor": 5
}
