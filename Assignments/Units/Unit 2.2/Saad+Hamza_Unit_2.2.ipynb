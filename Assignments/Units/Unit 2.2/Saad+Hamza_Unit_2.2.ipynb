{
 "cells": [
  {
   "cell_type": "code",
   "execution_count": 2,
   "id": "1262249e-3aad-4aee-863d-e249caf6a1c4",
   "metadata": {
    "tags": []
   },
   "outputs": [],
   "source": [
    "import numpy as np"
   ]
  },
  {
   "cell_type": "code",
   "execution_count": 3,
   "id": "c39c5da4-6340-4ed7-bdc6-168d4bdcc630",
   "metadata": {
    "tags": []
   },
   "outputs": [
    {
     "data": {
      "text/plain": [
       "array([[13, 11, 16, 24],\n",
       "       [ 6, 17, 29, 24],\n",
       "       [ 5,  3, 28,  2],\n",
       "       [23, 24, 20, 12],\n",
       "       [14, 21,  4, 10],\n",
       "       [ 0,  7, 27, 12]])"
      ]
     },
     "execution_count": 3,
     "metadata": {},
     "output_type": "execute_result"
    }
   ],
   "source": [
    "# Creating a 6x4 matrix of random numbers from 1 to 30. \n",
    "matrix = np.random.randint(30, size=(6, 4))\n",
    "matrix"
   ]
  },
  {
   "cell_type": "code",
   "execution_count": 4,
   "id": "35b1452c-9edc-42df-b2f9-800a673531ed",
   "metadata": {
    "tags": []
   },
   "outputs": [],
   "source": [
    "# Substituting the fourth row with the sum of first and third row\n",
    "matrix[4] = matrix[0, :] + matrix[2, :]\n",
    "\n",
    "# doing the same for the fifth row, with the sum of second and fourth row\n",
    "matrix[5] = matrix[1, :] + matrix[3, :]"
   ]
  },
  {
   "cell_type": "code",
   "execution_count": 5,
   "id": "ccc132e3-93d5-4d43-8106-e9e6a379c2e8",
   "metadata": {
    "tags": []
   },
   "outputs": [
    {
     "data": {
      "text/plain": [
       "array([[13, 11, 16, 24],\n",
       "       [ 6, 17, 29, 24],\n",
       "       [ 5,  3, 28,  2],\n",
       "       [23, 24, 20, 12],\n",
       "       [18, 14, 44, 26],\n",
       "       [29, 41, 49, 36]])"
      ]
     },
     "execution_count": 5,
     "metadata": {},
     "output_type": "execute_result"
    }
   ],
   "source": [
    "matrix"
   ]
  }
 ],
 "metadata": {
  "kernelspec": {
   "display_name": "Python 3 (ipykernel)",
   "language": "python",
   "name": "python3"
  },
  "language_info": {
   "codemirror_mode": {
    "name": "ipython",
    "version": 3
   },
   "file_extension": ".py",
   "mimetype": "text/x-python",
   "name": "python",
   "nbconvert_exporter": "python",
   "pygments_lexer": "ipython3",
   "version": "3.10.6"
  }
 },
 "nbformat": 4,
 "nbformat_minor": 5
}
